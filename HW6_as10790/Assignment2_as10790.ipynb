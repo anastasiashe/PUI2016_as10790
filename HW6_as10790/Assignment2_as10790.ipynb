{
 "cells": [
  {
   "cell_type": "code",
   "execution_count": 72,
   "metadata": {
    "collapsed": false
   },
   "outputs": [
    {
     "name": "stdout",
     "output_type": "stream",
     "text": [
      "Populating the interactive namespace from numpy and matplotlib\n"
     ]
    }
   ],
   "source": [
    "import pandas as pd\n",
    "import geopandas as gp\n",
    "import pylab as pl\n",
    "import os\n",
    "import json\n",
    "import urllib2 as urllib\n",
    "import zipfile \n",
    "\n",
    "%pylab inline"
   ]
  },
  {
   "cell_type": "markdown",
   "metadata": {},
   "source": [
    "#### Data download and cleaning"
   ]
  },
  {
   "cell_type": "code",
   "execution_count": 176,
   "metadata": {
    "collapsed": false
   },
   "outputs": [],
   "source": [
    "# Energy use data\n",
    "\n",
    "eUse_url = 'https://data.cityofnewyork.us/resource/m46j-75iy.csv'\n",
    "eUse_data = pd.read_csv(eUse_url)"
   ]
  },
  {
   "cell_type": "code",
   "execution_count": 177,
   "metadata": {
    "collapsed": false,
    "scrolled": true
   },
   "outputs": [
    {
     "data": {
      "text/html": [
       "<div>\n",
       "<table border=\"1\" class=\"dataframe\">\n",
       "  <thead>\n",
       "    <tr style=\"text-align: right;\">\n",
       "      <th></th>\n",
       "      <th>automatic_water_benchmarking_eligible</th>\n",
       "      <th>bbls_co_reported</th>\n",
       "      <th>borough</th>\n",
       "      <th>co_reported_bbl_status</th>\n",
       "      <th>direct_ghg_emissions_mtco2e</th>\n",
       "      <th>dof_benchmarking_submission_status</th>\n",
       "      <th>dof_number_of_buildings</th>\n",
       "      <th>dof_property_floor_area_buildngs_and_parking_ft2</th>\n",
       "      <th>energy_star_score</th>\n",
       "      <th>indirect_ghg_emissions_mtco2e</th>\n",
       "      <th>...</th>\n",
       "      <th>reported_property_floor_area_building_s_ft</th>\n",
       "      <th>reported_water_method</th>\n",
       "      <th>site_eui_kbtu_ft2</th>\n",
       "      <th>source_eui_kbtu_ft2</th>\n",
       "      <th>street_name</th>\n",
       "      <th>street_number</th>\n",
       "      <th>total_ghg_emissions_mtco2e</th>\n",
       "      <th>weather_normalized_site_eui_kbtu_ft2</th>\n",
       "      <th>weather_normalized_source_eui_kbtu_ft2</th>\n",
       "      <th>zip_code</th>\n",
       "    </tr>\n",
       "  </thead>\n",
       "  <tbody>\n",
       "    <tr>\n",
       "      <th>0</th>\n",
       "      <td>NaN</td>\n",
       "      <td>1000410001</td>\n",
       "      <td>Manhattan</td>\n",
       "      <td>NaN</td>\n",
       "      <td>NaN</td>\n",
       "      <td>BBL not valid</td>\n",
       "      <td>NaN</td>\n",
       "      <td>NaN</td>\n",
       "      <td>Not Available</td>\n",
       "      <td>NaN</td>\n",
       "      <td>...</td>\n",
       "      <td>918919</td>\n",
       "      <td>NaN</td>\n",
       "      <td>NaN</td>\n",
       "      <td>NaN</td>\n",
       "      <td>NaN</td>\n",
       "      <td>NaN</td>\n",
       "      <td>NaN</td>\n",
       "      <td>Not Available</td>\n",
       "      <td>Not Available</td>\n",
       "      <td>NaN</td>\n",
       "    </tr>\n",
       "    <tr>\n",
       "      <th>1</th>\n",
       "      <td>Yes</td>\n",
       "      <td>NaN</td>\n",
       "      <td>Queens</td>\n",
       "      <td>NaN</td>\n",
       "      <td>NaN</td>\n",
       "      <td>No Submission Matched to BBL</td>\n",
       "      <td>1.0</td>\n",
       "      <td>82730.0</td>\n",
       "      <td>NaN</td>\n",
       "      <td>NaN</td>\n",
       "      <td>...</td>\n",
       "      <td>NaN</td>\n",
       "      <td>None</td>\n",
       "      <td>NaN</td>\n",
       "      <td>NaN</td>\n",
       "      <td>108 STREET</td>\n",
       "      <td>63-10</td>\n",
       "      <td>NaN</td>\n",
       "      <td>NaN</td>\n",
       "      <td>NaN</td>\n",
       "      <td>11375.0</td>\n",
       "    </tr>\n",
       "    <tr>\n",
       "      <th>2</th>\n",
       "      <td>NaN</td>\n",
       "      <td>2027620097</td>\n",
       "      <td>Bronx</td>\n",
       "      <td>NaN</td>\n",
       "      <td>NaN</td>\n",
       "      <td>BBL not valid</td>\n",
       "      <td>NaN</td>\n",
       "      <td>NaN</td>\n",
       "      <td>Not Available</td>\n",
       "      <td>NaN</td>\n",
       "      <td>...</td>\n",
       "      <td>64200</td>\n",
       "      <td>NaN</td>\n",
       "      <td>NaN</td>\n",
       "      <td>NaN</td>\n",
       "      <td>NaN</td>\n",
       "      <td>NaN</td>\n",
       "      <td>NaN</td>\n",
       "      <td>Not Available</td>\n",
       "      <td>Not Available</td>\n",
       "      <td>NaN</td>\n",
       "    </tr>\n",
       "    <tr>\n",
       "      <th>3</th>\n",
       "      <td>No</td>\n",
       "      <td>NaN</td>\n",
       "      <td>Manhattan</td>\n",
       "      <td>NaN</td>\n",
       "      <td>NaN</td>\n",
       "      <td>No Submission Matched to BBL</td>\n",
       "      <td>1.0</td>\n",
       "      <td>440360.0</td>\n",
       "      <td>NaN</td>\n",
       "      <td>NaN</td>\n",
       "      <td>...</td>\n",
       "      <td>NaN</td>\n",
       "      <td>None</td>\n",
       "      <td>NaN</td>\n",
       "      <td>NaN</td>\n",
       "      <td>11 AVENUE</td>\n",
       "      <td>201</td>\n",
       "      <td>NaN</td>\n",
       "      <td>NaN</td>\n",
       "      <td>NaN</td>\n",
       "      <td>10001.0</td>\n",
       "    </tr>\n",
       "    <tr>\n",
       "      <th>4</th>\n",
       "      <td>NaN</td>\n",
       "      <td>2048300034</td>\n",
       "      <td>Bronx</td>\n",
       "      <td>NaN</td>\n",
       "      <td>NaN</td>\n",
       "      <td>Not on Covered Buildings List</td>\n",
       "      <td>NaN</td>\n",
       "      <td>NaN</td>\n",
       "      <td>Not Available</td>\n",
       "      <td>NaN</td>\n",
       "      <td>...</td>\n",
       "      <td>50000</td>\n",
       "      <td>None</td>\n",
       "      <td>NaN</td>\n",
       "      <td>NaN</td>\n",
       "      <td>NaN</td>\n",
       "      <td>NaN</td>\n",
       "      <td>NaN</td>\n",
       "      <td>Not Available</td>\n",
       "      <td>Not Available</td>\n",
       "      <td>NaN</td>\n",
       "    </tr>\n",
       "  </tbody>\n",
       "</table>\n",
       "<p>5 rows × 25 columns</p>\n",
       "</div>"
      ],
      "text/plain": [
       "  automatic_water_benchmarking_eligible bbls_co_reported    borough  \\\n",
       "0                                   NaN       1000410001  Manhattan   \n",
       "1                                   Yes              NaN     Queens   \n",
       "2                                   NaN       2027620097      Bronx   \n",
       "3                                    No              NaN  Manhattan   \n",
       "4                                   NaN       2048300034      Bronx   \n",
       "\n",
       "  co_reported_bbl_status direct_ghg_emissions_mtco2e  \\\n",
       "0                    NaN                         NaN   \n",
       "1                    NaN                         NaN   \n",
       "2                    NaN                         NaN   \n",
       "3                    NaN                         NaN   \n",
       "4                    NaN                         NaN   \n",
       "\n",
       "  dof_benchmarking_submission_status  dof_number_of_buildings  \\\n",
       "0                      BBL not valid                      NaN   \n",
       "1       No Submission Matched to BBL                      1.0   \n",
       "2                      BBL not valid                      NaN   \n",
       "3       No Submission Matched to BBL                      1.0   \n",
       "4      Not on Covered Buildings List                      NaN   \n",
       "\n",
       "   dof_property_floor_area_buildngs_and_parking_ft2 energy_star_score  \\\n",
       "0                                               NaN     Not Available   \n",
       "1                                           82730.0               NaN   \n",
       "2                                               NaN     Not Available   \n",
       "3                                          440360.0               NaN   \n",
       "4                                               NaN     Not Available   \n",
       "\n",
       "  indirect_ghg_emissions_mtco2e   ...     \\\n",
       "0                           NaN   ...      \n",
       "1                           NaN   ...      \n",
       "2                           NaN   ...      \n",
       "3                           NaN   ...      \n",
       "4                           NaN   ...      \n",
       "\n",
       "  reported_property_floor_area_building_s_ft  reported_water_method  \\\n",
       "0                                     918919                    NaN   \n",
       "1                                        NaN                   None   \n",
       "2                                      64200                    NaN   \n",
       "3                                        NaN                   None   \n",
       "4                                      50000                   None   \n",
       "\n",
       "  site_eui_kbtu_ft2  source_eui_kbtu_ft2 street_name street_number  \\\n",
       "0               NaN                  NaN         NaN           NaN   \n",
       "1               NaN                  NaN  108 STREET         63-10   \n",
       "2               NaN                  NaN         NaN           NaN   \n",
       "3               NaN                  NaN   11 AVENUE           201   \n",
       "4               NaN                  NaN         NaN           NaN   \n",
       "\n",
       "  total_ghg_emissions_mtco2e weather_normalized_site_eui_kbtu_ft2  \\\n",
       "0                        NaN                        Not Available   \n",
       "1                        NaN                                  NaN   \n",
       "2                        NaN                        Not Available   \n",
       "3                        NaN                                  NaN   \n",
       "4                        NaN                        Not Available   \n",
       "\n",
       "  weather_normalized_source_eui_kbtu_ft2 zip_code  \n",
       "0                          Not Available      NaN  \n",
       "1                                    NaN  11375.0  \n",
       "2                          Not Available      NaN  \n",
       "3                                    NaN  10001.0  \n",
       "4                          Not Available      NaN  \n",
       "\n",
       "[5 rows x 25 columns]"
      ]
     },
     "execution_count": 177,
     "metadata": {},
     "output_type": "execute_result"
    }
   ],
   "source": [
    "eUse_data.head()"
   ]
  },
  {
   "cell_type": "code",
   "execution_count": 178,
   "metadata": {
    "collapsed": false
   },
   "outputs": [
    {
     "data": {
      "text/plain": [
       "Index([u'automatic_water_benchmarking_eligible', u'bbls_co_reported',\n",
       "       u'borough', u'co_reported_bbl_status', u'direct_ghg_emissions_mtco2e',\n",
       "       u'dof_benchmarking_submission_status', u'dof_number_of_buildings',\n",
       "       u'dof_property_floor_area_buildngs_and_parking_ft2',\n",
       "       u'energy_star_score', u'indirect_ghg_emissions_mtco2e',\n",
       "       u'municipally_supplied_potable_water_indoor_intensity_gal_ft',\n",
       "       u'nyc_borough_block_and_lot_bbl',\n",
       "       u'primary_property_type_self_selected', u'record_number',\n",
       "       u'reported_nyc_building_identificaiton_numbers_bins',\n",
       "       u'reported_property_floor_area_building_s_ft', u'reported_water_method',\n",
       "       u'site_eui_kbtu_ft2', u'source_eui_kbtu_ft2', u'street_name',\n",
       "       u'street_number', u'total_ghg_emissions_mtco2e',\n",
       "       u'weather_normalized_site_eui_kbtu_ft2',\n",
       "       u'weather_normalized_source_eui_kbtu_ft2', u'zip_code'],\n",
       "      dtype='object')"
      ]
     },
     "execution_count": 178,
     "metadata": {},
     "output_type": "execute_result"
    }
   ],
   "source": [
    "eUse_data.columns"
   ]
  },
  {
   "cell_type": "code",
   "execution_count": 179,
   "metadata": {
    "collapsed": true
   },
   "outputs": [],
   "source": [
    "eUse_data.drop([u'automatic_water_benchmarking_eligible', u'bbls_co_reported',\n",
    "       u'borough', u'co_reported_bbl_status', u'direct_ghg_emissions_mtco2e',\n",
    "       u'dof_benchmarking_submission_status', u'dof_number_of_buildings',\n",
    "       u'dof_property_floor_area_buildngs_and_parking_ft2',\n",
    "       u'energy_star_score', u'indirect_ghg_emissions_mtco2e',\n",
    "       u'municipally_supplied_potable_water_indoor_intensity_gal_ft',\n",
    "       u'primary_property_type_self_selected', u'record_number',\n",
    "       u'reported_nyc_building_identificaiton_numbers_bins',\n",
    "       u'reported_water_method',\n",
    "       u'source_eui_kbtu_ft2', u'street_name',\n",
    "       u'street_number',\n",
    "       u'weather_normalized_site_eui_kbtu_ft2',\n",
    "       u'weather_normalized_source_eui_kbtu_ft2', u'zip_code'], axis = 1, inplace = True)"
   ]
  },
  {
   "cell_type": "code",
   "execution_count": 180,
   "metadata": {
    "collapsed": false
   },
   "outputs": [
    {
     "data": {
      "text/html": [
       "<div>\n",
       "<table border=\"1\" class=\"dataframe\">\n",
       "  <thead>\n",
       "    <tr style=\"text-align: right;\">\n",
       "      <th></th>\n",
       "      <th>nyc_borough_block_and_lot_bbl</th>\n",
       "      <th>reported_property_floor_area_building_s_ft</th>\n",
       "      <th>site_eui_kbtu_ft2</th>\n",
       "      <th>total_ghg_emissions_mtco2e</th>\n",
       "    </tr>\n",
       "  </thead>\n",
       "  <tbody>\n",
       "    <tr>\n",
       "      <th>0</th>\n",
       "      <td>1.000410e+09</td>\n",
       "      <td>918919</td>\n",
       "      <td>NaN</td>\n",
       "      <td>NaN</td>\n",
       "    </tr>\n",
       "    <tr>\n",
       "      <th>1</th>\n",
       "      <td>4.021460e+09</td>\n",
       "      <td>NaN</td>\n",
       "      <td>NaN</td>\n",
       "      <td>NaN</td>\n",
       "    </tr>\n",
       "    <tr>\n",
       "      <th>2</th>\n",
       "      <td>2.027620e+09</td>\n",
       "      <td>64200</td>\n",
       "      <td>NaN</td>\n",
       "      <td>NaN</td>\n",
       "    </tr>\n",
       "    <tr>\n",
       "      <th>3</th>\n",
       "      <td>1.006700e+09</td>\n",
       "      <td>NaN</td>\n",
       "      <td>NaN</td>\n",
       "      <td>NaN</td>\n",
       "    </tr>\n",
       "    <tr>\n",
       "      <th>4</th>\n",
       "      <td>2.048300e+09</td>\n",
       "      <td>50000</td>\n",
       "      <td>NaN</td>\n",
       "      <td>NaN</td>\n",
       "    </tr>\n",
       "  </tbody>\n",
       "</table>\n",
       "</div>"
      ],
      "text/plain": [
       "   nyc_borough_block_and_lot_bbl reported_property_floor_area_building_s_ft  \\\n",
       "0                   1.000410e+09                                     918919   \n",
       "1                   4.021460e+09                                        NaN   \n",
       "2                   2.027620e+09                                      64200   \n",
       "3                   1.006700e+09                                        NaN   \n",
       "4                   2.048300e+09                                      50000   \n",
       "\n",
       "  site_eui_kbtu_ft2 total_ghg_emissions_mtco2e  \n",
       "0               NaN                        NaN  \n",
       "1               NaN                        NaN  \n",
       "2               NaN                        NaN  \n",
       "3               NaN                        NaN  \n",
       "4               NaN                        NaN  "
      ]
     },
     "execution_count": 180,
     "metadata": {},
     "output_type": "execute_result"
    }
   ],
   "source": [
    "eUse_data.head()"
   ]
  },
  {
   "cell_type": "code",
   "execution_count": 181,
   "metadata": {
    "collapsed": false
   },
   "outputs": [
    {
     "data": {
      "text/plain": [
       "nyc_borough_block_and_lot_bbl                 float64\n",
       "reported_property_floor_area_building_s_ft     object\n",
       "site_eui_kbtu_ft2                              object\n",
       "total_ghg_emissions_mtco2e                     object\n",
       "dtype: object"
      ]
     },
     "execution_count": 181,
     "metadata": {},
     "output_type": "execute_result"
    }
   ],
   "source": [
    "eUse_data.dtypes # Checking data types"
   ]
  },
  {
   "cell_type": "code",
   "execution_count": 182,
   "metadata": {
    "collapsed": false
   },
   "outputs": [
    {
     "data": {
      "text/plain": [
       "(16170, 4)"
      ]
     },
     "execution_count": 182,
     "metadata": {},
     "output_type": "execute_result"
    }
   ],
   "source": [
    "eUse_data.shape # Checking number of observations "
   ]
  },
  {
   "cell_type": "code",
   "execution_count": 183,
   "metadata": {
    "collapsed": false
   },
   "outputs": [
    {
     "data": {
      "text/plain": [
       "nyc_borough_block_and_lot_bbl                  156\n",
       "reported_property_floor_area_building_s_ft    2385\n",
       "site_eui_kbtu_ft2                             3966\n",
       "total_ghg_emissions_mtco2e                    3790\n",
       "dtype: int64"
      ]
     },
     "execution_count": 183,
     "metadata": {},
     "output_type": "execute_result"
    }
   ],
   "source": [
    "eUse_data.isnull().sum() # Checking for NaN values "
   ]
  },
  {
   "cell_type": "code",
   "execution_count": 184,
   "metadata": {
    "collapsed": true
   },
   "outputs": [],
   "source": [
    "eUse_data_num = eUse_data.apply(pd.to_numeric, errors = 'coerce') # Converting all data to numeric"
   ]
  },
  {
   "cell_type": "code",
   "execution_count": 185,
   "metadata": {
    "collapsed": false
   },
   "outputs": [
    {
     "data": {
      "text/plain": [
       "nyc_borough_block_and_lot_bbl                  156\n",
       "reported_property_floor_area_building_s_ft    3125\n",
       "site_eui_kbtu_ft2                             4623\n",
       "total_ghg_emissions_mtco2e                    4447\n",
       "dtype: int64"
      ]
     },
     "execution_count": 185,
     "metadata": {},
     "output_type": "execute_result"
    }
   ],
   "source": [
    "eUse_data_num.isnull().sum() # Checking for NaN values after conversion "
   ]
  },
  {
   "cell_type": "code",
   "execution_count": 186,
   "metadata": {
    "collapsed": false
   },
   "outputs": [],
   "source": [
    "eUse_data_num.dropna(inplace = True) # Dropping NaN values "
   ]
  },
  {
   "cell_type": "code",
   "execution_count": 187,
   "metadata": {
    "collapsed": false
   },
   "outputs": [
    {
     "data": {
      "text/html": [
       "<div>\n",
       "<table border=\"1\" class=\"dataframe\">\n",
       "  <thead>\n",
       "    <tr style=\"text-align: right;\">\n",
       "      <th></th>\n",
       "      <th>nyc_borough_block_and_lot_bbl</th>\n",
       "      <th>reported_property_floor_area_building_s_ft</th>\n",
       "      <th>site_eui_kbtu_ft2</th>\n",
       "      <th>total_ghg_emissions_mtco2e</th>\n",
       "    </tr>\n",
       "  </thead>\n",
       "  <tbody>\n",
       "    <tr>\n",
       "      <th>16</th>\n",
       "      <td>1.013110e+09</td>\n",
       "      <td>330000.0</td>\n",
       "      <td>125.4</td>\n",
       "      <td>3556.4</td>\n",
       "    </tr>\n",
       "    <tr>\n",
       "      <th>44</th>\n",
       "      <td>1.010140e+09</td>\n",
       "      <td>841709.0</td>\n",
       "      <td>154.9</td>\n",
       "      <td>9525.0</td>\n",
       "    </tr>\n",
       "    <tr>\n",
       "      <th>45</th>\n",
       "      <td>4.002520e+09</td>\n",
       "      <td>390400.0</td>\n",
       "      <td>46.0</td>\n",
       "      <td>1356.2</td>\n",
       "    </tr>\n",
       "    <tr>\n",
       "      <th>56</th>\n",
       "      <td>4.004370e+09</td>\n",
       "      <td>528060.0</td>\n",
       "      <td>66.2</td>\n",
       "      <td>2641.2</td>\n",
       "    </tr>\n",
       "    <tr>\n",
       "      <th>64</th>\n",
       "      <td>1.007660e+09</td>\n",
       "      <td>59468.0</td>\n",
       "      <td>122.3</td>\n",
       "      <td>584.4</td>\n",
       "    </tr>\n",
       "  </tbody>\n",
       "</table>\n",
       "</div>"
      ],
      "text/plain": [
       "    nyc_borough_block_and_lot_bbl  reported_property_floor_area_building_s_ft  \\\n",
       "16                   1.013110e+09                                    330000.0   \n",
       "44                   1.010140e+09                                    841709.0   \n",
       "45                   4.002520e+09                                    390400.0   \n",
       "56                   4.004370e+09                                    528060.0   \n",
       "64                   1.007660e+09                                     59468.0   \n",
       "\n",
       "    site_eui_kbtu_ft2  total_ghg_emissions_mtco2e  \n",
       "16              125.4                      3556.4  \n",
       "44              154.9                      9525.0  \n",
       "45               46.0                      1356.2  \n",
       "56               66.2                      2641.2  \n",
       "64              122.3                       584.4  "
      ]
     },
     "execution_count": 187,
     "metadata": {},
     "output_type": "execute_result"
    }
   ],
   "source": [
    "eUse_data_num.head()"
   ]
  },
  {
   "cell_type": "code",
   "execution_count": 188,
   "metadata": {
    "collapsed": false
   },
   "outputs": [
    {
     "data": {
      "text/plain": [
       "nyc_borough_block_and_lot_bbl                 float64\n",
       "reported_property_floor_area_building_s_ft    float64\n",
       "site_eui_kbtu_ft2                             float64\n",
       "total_ghg_emissions_mtco2e                    float64\n",
       "dtype: object"
      ]
     },
     "execution_count": 188,
     "metadata": {},
     "output_type": "execute_result"
    }
   ],
   "source": [
    "eUse_data_num.dtypes # Checking data types after conversion"
   ]
  },
  {
   "cell_type": "code",
   "execution_count": 189,
   "metadata": {
    "collapsed": false
   },
   "outputs": [
    {
     "data": {
      "text/plain": [
       "nyc_borough_block_and_lot_bbl                 0\n",
       "reported_property_floor_area_building_s_ft    0\n",
       "site_eui_kbtu_ft2                             0\n",
       "total_ghg_emissions_mtco2e                    0\n",
       "dtype: int64"
      ]
     },
     "execution_count": 189,
     "metadata": {},
     "output_type": "execute_result"
    }
   ],
   "source": [
    "eUse_data_num.isnull().sum() # Checking NaN values after conversion"
   ]
  },
  {
   "cell_type": "code",
   "execution_count": 190,
   "metadata": {
    "collapsed": false
   },
   "outputs": [
    {
     "data": {
      "text/plain": [
       "(11437, 4)"
      ]
     },
     "execution_count": 190,
     "metadata": {},
     "output_type": "execute_result"
    }
   ],
   "source": [
    "eUse_data_num.shape # Checking number of observations after conversion"
   ]
  },
  {
   "cell_type": "code",
   "execution_count": 61,
   "metadata": {
    "collapsed": false
   },
   "outputs": [
    {
     "data": {
      "text/plain": [
       "<bound method ZipFile.close of <zipfile.ZipFile object at 0x7ff3f21efbd0>>"
      ]
     },
     "execution_count": 61,
     "metadata": {},
     "output_type": "execute_result"
    }
   ],
   "source": [
    "# Obtaining MPLUTO data \n",
    "\n",
    "os.system(\"unzip \" + os.getenv(\"PUIDATA\") + \"/\" + \"mn_mappluto_16v1.zip\")\n",
    "zip_ref = zipfile.ZipFile(os.getenv('PUIDATA') + '/' + \"mn_mappluto_16v1.zip\", 'r')\n",
    "zip_ref.extractall(os.getenv('PUIDATA'))\n",
    "zip_ref.close"
   ]
  },
  {
   "cell_type": "code",
   "execution_count": 62,
   "metadata": {
    "collapsed": false
   },
   "outputs": [],
   "source": [
    "mpluto = gp.GeoDataFrame.from_file(os.getenv('PUIDATA') + '/' + \"MNMapPLUTO.shp\")"
   ]
  },
  {
   "cell_type": "code",
   "execution_count": 63,
   "metadata": {
    "collapsed": false
   },
   "outputs": [
    {
     "data": {
      "text/html": [
       "<div>\n",
       "<table border=\"1\" class=\"dataframe\">\n",
       "  <thead>\n",
       "    <tr style=\"text-align: right;\">\n",
       "      <th></th>\n",
       "      <th>APPBBL</th>\n",
       "      <th>APPDate</th>\n",
       "      <th>Address</th>\n",
       "      <th>AllZoning1</th>\n",
       "      <th>AllZoning2</th>\n",
       "      <th>AreaSource</th>\n",
       "      <th>AssessLand</th>\n",
       "      <th>AssessTot</th>\n",
       "      <th>BBL</th>\n",
       "      <th>BldgArea</th>\n",
       "      <th>...</th>\n",
       "      <th>YearAlter2</th>\n",
       "      <th>YearBuilt</th>\n",
       "      <th>ZMCode</th>\n",
       "      <th>ZipCode</th>\n",
       "      <th>ZoneDist1</th>\n",
       "      <th>ZoneDist2</th>\n",
       "      <th>ZoneDist3</th>\n",
       "      <th>ZoneDist4</th>\n",
       "      <th>ZoneMap</th>\n",
       "      <th>geometry</th>\n",
       "    </tr>\n",
       "  </thead>\n",
       "  <tbody>\n",
       "    <tr>\n",
       "      <th>0</th>\n",
       "      <td>0.000000e+00</td>\n",
       "      <td>None</td>\n",
       "      <td>1592 2 AVENUE</td>\n",
       "      <td>C1-9/TA</td>\n",
       "      <td>None</td>\n",
       "      <td>2</td>\n",
       "      <td>468000.0</td>\n",
       "      <td>1435950.0</td>\n",
       "      <td>1.015450e+09</td>\n",
       "      <td>10885</td>\n",
       "      <td>...</td>\n",
       "      <td>0</td>\n",
       "      <td>1920</td>\n",
       "      <td>None</td>\n",
       "      <td>10028</td>\n",
       "      <td>C1-9</td>\n",
       "      <td>None</td>\n",
       "      <td>None</td>\n",
       "      <td>None</td>\n",
       "      <td>9a</td>\n",
       "      <td>POLYGON ((997277.2344000041 221816.0936000049,...</td>\n",
       "    </tr>\n",
       "    <tr>\n",
       "      <th>1</th>\n",
       "      <td>1.007230e+09</td>\n",
       "      <td>11/30/2006</td>\n",
       "      <td>263 9 AVENUE</td>\n",
       "      <td>C1-5/R8</td>\n",
       "      <td>None</td>\n",
       "      <td>2</td>\n",
       "      <td>539984.0</td>\n",
       "      <td>11879993.0</td>\n",
       "      <td>1.007238e+09</td>\n",
       "      <td>89203</td>\n",
       "      <td>...</td>\n",
       "      <td>0</td>\n",
       "      <td>1914</td>\n",
       "      <td>None</td>\n",
       "      <td>10001</td>\n",
       "      <td>R8</td>\n",
       "      <td>None</td>\n",
       "      <td>None</td>\n",
       "      <td>None</td>\n",
       "      <td>8d</td>\n",
       "      <td>POLYGON ((984164.5626000017 211846.0703999996,...</td>\n",
       "    </tr>\n",
       "    <tr>\n",
       "      <th>2</th>\n",
       "      <td>0.000000e+00</td>\n",
       "      <td>None</td>\n",
       "      <td>310 EAST 109 STREET</td>\n",
       "      <td>R7A</td>\n",
       "      <td>None</td>\n",
       "      <td>2</td>\n",
       "      <td>140102.0</td>\n",
       "      <td>343271.0</td>\n",
       "      <td>1.016800e+09</td>\n",
       "      <td>12000</td>\n",
       "      <td>...</td>\n",
       "      <td>0</td>\n",
       "      <td>1910</td>\n",
       "      <td>None</td>\n",
       "      <td>10029</td>\n",
       "      <td>R7A</td>\n",
       "      <td>None</td>\n",
       "      <td>None</td>\n",
       "      <td>None</td>\n",
       "      <td>6b</td>\n",
       "      <td>POLYGON ((1000742.195800006 227910.6640000045,...</td>\n",
       "    </tr>\n",
       "    <tr>\n",
       "      <th>3</th>\n",
       "      <td>0.000000e+00</td>\n",
       "      <td>None</td>\n",
       "      <td>720 PARK AVENUE</td>\n",
       "      <td>R10/PI/LH-1A</td>\n",
       "      <td>R8B</td>\n",
       "      <td>2</td>\n",
       "      <td>5040000.0</td>\n",
       "      <td>30591900.0</td>\n",
       "      <td>1.013850e+09</td>\n",
       "      <td>203490</td>\n",
       "      <td>...</td>\n",
       "      <td>2006</td>\n",
       "      <td>1928</td>\n",
       "      <td>None</td>\n",
       "      <td>10021</td>\n",
       "      <td>R10</td>\n",
       "      <td>R8B</td>\n",
       "      <td>None</td>\n",
       "      <td>None</td>\n",
       "      <td>8c</td>\n",
       "      <td>POLYGON ((994007.6886000037 219880.428399995, ...</td>\n",
       "    </tr>\n",
       "    <tr>\n",
       "      <th>4</th>\n",
       "      <td>0.000000e+00</td>\n",
       "      <td>None</td>\n",
       "      <td>3 WEST 83 STREET</td>\n",
       "      <td>R8B</td>\n",
       "      <td>R10A</td>\n",
       "      <td>2</td>\n",
       "      <td>437850.0</td>\n",
       "      <td>1267200.0</td>\n",
       "      <td>1.011970e+09</td>\n",
       "      <td>13839</td>\n",
       "      <td>...</td>\n",
       "      <td>0</td>\n",
       "      <td>1900</td>\n",
       "      <td>None</td>\n",
       "      <td>10024</td>\n",
       "      <td>R8B</td>\n",
       "      <td>R10A</td>\n",
       "      <td>None</td>\n",
       "      <td>None</td>\n",
       "      <td>5d</td>\n",
       "      <td>POLYGON ((992273.6850000024 224863.4904000014,...</td>\n",
       "    </tr>\n",
       "  </tbody>\n",
       "</table>\n",
       "<p>5 rows × 90 columns</p>\n",
       "</div>"
      ],
      "text/plain": [
       "         APPBBL     APPDate              Address    AllZoning1 AllZoning2  \\\n",
       "0  0.000000e+00        None        1592 2 AVENUE       C1-9/TA       None   \n",
       "1  1.007230e+09  11/30/2006         263 9 AVENUE       C1-5/R8       None   \n",
       "2  0.000000e+00        None  310 EAST 109 STREET           R7A       None   \n",
       "3  0.000000e+00        None      720 PARK AVENUE  R10/PI/LH-1A        R8B   \n",
       "4  0.000000e+00        None     3 WEST 83 STREET           R8B       R10A   \n",
       "\n",
       "  AreaSource  AssessLand   AssessTot           BBL  BldgArea  \\\n",
       "0          2    468000.0   1435950.0  1.015450e+09     10885   \n",
       "1          2    539984.0  11879993.0  1.007238e+09     89203   \n",
       "2          2    140102.0    343271.0  1.016800e+09     12000   \n",
       "3          2   5040000.0  30591900.0  1.013850e+09    203490   \n",
       "4          2    437850.0   1267200.0  1.011970e+09     13839   \n",
       "\n",
       "                         ...                         YearAlter2  YearBuilt  \\\n",
       "0                        ...                                  0       1920   \n",
       "1                        ...                                  0       1914   \n",
       "2                        ...                                  0       1910   \n",
       "3                        ...                               2006       1928   \n",
       "4                        ...                                  0       1900   \n",
       "\n",
       "   ZMCode  ZipCode  ZoneDist1 ZoneDist2 ZoneDist3 ZoneDist4  ZoneMap  \\\n",
       "0    None    10028       C1-9      None      None      None       9a   \n",
       "1    None    10001         R8      None      None      None       8d   \n",
       "2    None    10029        R7A      None      None      None       6b   \n",
       "3    None    10021        R10       R8B      None      None       8c   \n",
       "4    None    10024        R8B      R10A      None      None       5d   \n",
       "\n",
       "                                            geometry  \n",
       "0  POLYGON ((997277.2344000041 221816.0936000049,...  \n",
       "1  POLYGON ((984164.5626000017 211846.0703999996,...  \n",
       "2  POLYGON ((1000742.195800006 227910.6640000045,...  \n",
       "3  POLYGON ((994007.6886000037 219880.428399995, ...  \n",
       "4  POLYGON ((992273.6850000024 224863.4904000014,...  \n",
       "\n",
       "[5 rows x 90 columns]"
      ]
     },
     "execution_count": 63,
     "metadata": {},
     "output_type": "execute_result"
    }
   ],
   "source": [
    "mpluto.head()"
   ]
  },
  {
   "cell_type": "code",
   "execution_count": 64,
   "metadata": {
    "collapsed": false
   },
   "outputs": [
    {
     "data": {
      "text/plain": [
       "Index([    u'APPBBL',    u'APPDate',    u'Address', u'AllZoning1',\n",
       "       u'AllZoning2', u'AreaSource', u'AssessLand',  u'AssessTot',\n",
       "              u'BBL',   u'BldgArea',  u'BldgClass',  u'BldgDepth',\n",
       "        u'BldgFront',      u'Block',   u'BoroCode',    u'Borough',\n",
       "         u'BsmtCode',  u'BuiltCode',   u'BuiltFAR',     u'CB2010',\n",
       "               u'CD',     u'CT2010',    u'ComArea',    u'CommFAR',\n",
       "          u'CondoNo',    u'Council',  u'EDesigNum',  u'Easements',\n",
       "       u'ExemptLand',  u'ExemptTot',        u'Ext',   u'FacilFAR',\n",
       "       u'FactryArea',   u'FireComp', u'GarageArea', u'HealthArea',\n",
       "         u'HistDist', u'IrrLotCode',    u'LandUse',   u'Landmark',\n",
       "              u'Lot',    u'LotArea',   u'LotDepth',   u'LotFront',\n",
       "          u'LotType',  u'LtdHeight', u'MAPPLUTO_F',   u'NumBldgs',\n",
       "        u'NumFloors', u'OfficeArea',  u'OtherArea',   u'Overlay1',\n",
       "         u'Overlay2',  u'OwnerName',  u'OwnerType', u'PLUTOMapID',\n",
       "       u'PolicePrct',   u'ProxCode',    u'ResArea',   u'ResidFAR',\n",
       "       u'RetailArea', u'SHAPE_Area', u'SHAPE_Leng',    u'SPDist1',\n",
       "          u'SPDist2',    u'Sanborn',  u'SanitBoro',  u'SanitDist',\n",
       "         u'SanitSub', u'SchoolDist',  u'SplitZone',  u'StrgeArea',\n",
       "           u'TaxMap',  u'Tract2010',   u'UnitsRes', u'UnitsTotal',\n",
       "          u'Version',     u'XCoord',     u'YCoord', u'YearAlter1',\n",
       "       u'YearAlter2',  u'YearBuilt',     u'ZMCode',    u'ZipCode',\n",
       "        u'ZoneDist1',  u'ZoneDist2',  u'ZoneDist3',  u'ZoneDist4',\n",
       "          u'ZoneMap',   u'geometry'],\n",
       "      dtype='object')"
      ]
     },
     "execution_count": 64,
     "metadata": {},
     "output_type": "execute_result"
    }
   ],
   "source": [
    "mpluto.columns"
   ]
  },
  {
   "cell_type": "code",
   "execution_count": 51,
   "metadata": {
    "collapsed": false
   },
   "outputs": [],
   "source": [
    "eu_data.drop([u'automatic_water_benchmarking_eligible',\n",
    "       u'direct_ghg_emissions_mtco2e',\n",
    "       u'dof_benchmarking_submission_status', u'indirect_ghg_emissions_mtco2e',\n",
    "       u'municipally_supplied_potable_water_indoor_intensity_gal_ft',\n",
    "       u'primary_property_type_self_selected', u'record_number',\n",
    "       u'reported_nyc_building_identificaiton_numbers_bins',\n",
    "       u'reported_water_method', u'total_ghg_emissions_mtco2e'], axis = 1, inplace = True)"
   ]
  },
  {
   "cell_type": "code",
   "execution_count": 52,
   "metadata": {
    "collapsed": false
   },
   "outputs": [
    {
     "data": {
      "text/html": [
       "<div>\n",
       "<table border=\"1\" class=\"dataframe\">\n",
       "  <thead>\n",
       "    <tr style=\"text-align: right;\">\n",
       "      <th></th>\n",
       "      <th>bbls_co_reported</th>\n",
       "      <th>borough</th>\n",
       "      <th>co_reported_bbl_status</th>\n",
       "      <th>dof_number_of_buildings</th>\n",
       "      <th>dof_property_floor_area_buildngs_and_parking_ft2</th>\n",
       "      <th>energy_star_score</th>\n",
       "      <th>nyc_borough_block_and_lot_bbl</th>\n",
       "      <th>reported_property_floor_area_building_s_ft</th>\n",
       "      <th>site_eui_kbtu_ft2</th>\n",
       "      <th>source_eui_kbtu_ft2</th>\n",
       "      <th>street_name</th>\n",
       "      <th>street_number</th>\n",
       "      <th>weather_normalized_site_eui_kbtu_ft2</th>\n",
       "      <th>weather_normalized_source_eui_kbtu_ft2</th>\n",
       "      <th>zip_code</th>\n",
       "    </tr>\n",
       "  </thead>\n",
       "  <tbody>\n",
       "    <tr>\n",
       "      <th>0</th>\n",
       "      <td>1000410001</td>\n",
       "      <td>Manhattan</td>\n",
       "      <td>NaN</td>\n",
       "      <td>NaN</td>\n",
       "      <td>NaN</td>\n",
       "      <td>Not Available</td>\n",
       "      <td>1.000410e+09</td>\n",
       "      <td>918919</td>\n",
       "      <td>NaN</td>\n",
       "      <td>NaN</td>\n",
       "      <td>NaN</td>\n",
       "      <td>NaN</td>\n",
       "      <td>Not Available</td>\n",
       "      <td>Not Available</td>\n",
       "      <td>NaN</td>\n",
       "    </tr>\n",
       "    <tr>\n",
       "      <th>1</th>\n",
       "      <td>NaN</td>\n",
       "      <td>Queens</td>\n",
       "      <td>NaN</td>\n",
       "      <td>1.0</td>\n",
       "      <td>82730.0</td>\n",
       "      <td>NaN</td>\n",
       "      <td>4.021460e+09</td>\n",
       "      <td>NaN</td>\n",
       "      <td>NaN</td>\n",
       "      <td>NaN</td>\n",
       "      <td>108 STREET</td>\n",
       "      <td>63-10</td>\n",
       "      <td>NaN</td>\n",
       "      <td>NaN</td>\n",
       "      <td>11375.0</td>\n",
       "    </tr>\n",
       "    <tr>\n",
       "      <th>2</th>\n",
       "      <td>2027620097</td>\n",
       "      <td>Bronx</td>\n",
       "      <td>NaN</td>\n",
       "      <td>NaN</td>\n",
       "      <td>NaN</td>\n",
       "      <td>Not Available</td>\n",
       "      <td>2.027620e+09</td>\n",
       "      <td>64200</td>\n",
       "      <td>NaN</td>\n",
       "      <td>NaN</td>\n",
       "      <td>NaN</td>\n",
       "      <td>NaN</td>\n",
       "      <td>Not Available</td>\n",
       "      <td>Not Available</td>\n",
       "      <td>NaN</td>\n",
       "    </tr>\n",
       "    <tr>\n",
       "      <th>3</th>\n",
       "      <td>NaN</td>\n",
       "      <td>Manhattan</td>\n",
       "      <td>NaN</td>\n",
       "      <td>1.0</td>\n",
       "      <td>440360.0</td>\n",
       "      <td>NaN</td>\n",
       "      <td>1.006700e+09</td>\n",
       "      <td>NaN</td>\n",
       "      <td>NaN</td>\n",
       "      <td>NaN</td>\n",
       "      <td>11 AVENUE</td>\n",
       "      <td>201</td>\n",
       "      <td>NaN</td>\n",
       "      <td>NaN</td>\n",
       "      <td>10001.0</td>\n",
       "    </tr>\n",
       "    <tr>\n",
       "      <th>4</th>\n",
       "      <td>2048300034</td>\n",
       "      <td>Bronx</td>\n",
       "      <td>NaN</td>\n",
       "      <td>NaN</td>\n",
       "      <td>NaN</td>\n",
       "      <td>Not Available</td>\n",
       "      <td>2.048300e+09</td>\n",
       "      <td>50000</td>\n",
       "      <td>NaN</td>\n",
       "      <td>NaN</td>\n",
       "      <td>NaN</td>\n",
       "      <td>NaN</td>\n",
       "      <td>Not Available</td>\n",
       "      <td>Not Available</td>\n",
       "      <td>NaN</td>\n",
       "    </tr>\n",
       "  </tbody>\n",
       "</table>\n",
       "</div>"
      ],
      "text/plain": [
       "  bbls_co_reported    borough co_reported_bbl_status  dof_number_of_buildings  \\\n",
       "0       1000410001  Manhattan                    NaN                      NaN   \n",
       "1              NaN     Queens                    NaN                      1.0   \n",
       "2       2027620097      Bronx                    NaN                      NaN   \n",
       "3              NaN  Manhattan                    NaN                      1.0   \n",
       "4       2048300034      Bronx                    NaN                      NaN   \n",
       "\n",
       "   dof_property_floor_area_buildngs_and_parking_ft2 energy_star_score  \\\n",
       "0                                               NaN     Not Available   \n",
       "1                                           82730.0               NaN   \n",
       "2                                               NaN     Not Available   \n",
       "3                                          440360.0               NaN   \n",
       "4                                               NaN     Not Available   \n",
       "\n",
       "   nyc_borough_block_and_lot_bbl reported_property_floor_area_building_s_ft  \\\n",
       "0                   1.000410e+09                                     918919   \n",
       "1                   4.021460e+09                                        NaN   \n",
       "2                   2.027620e+09                                      64200   \n",
       "3                   1.006700e+09                                        NaN   \n",
       "4                   2.048300e+09                                      50000   \n",
       "\n",
       "  site_eui_kbtu_ft2 source_eui_kbtu_ft2 street_name street_number  \\\n",
       "0               NaN                 NaN         NaN           NaN   \n",
       "1               NaN                 NaN  108 STREET         63-10   \n",
       "2               NaN                 NaN         NaN           NaN   \n",
       "3               NaN                 NaN   11 AVENUE           201   \n",
       "4               NaN                 NaN         NaN           NaN   \n",
       "\n",
       "  weather_normalized_site_eui_kbtu_ft2 weather_normalized_source_eui_kbtu_ft2  \\\n",
       "0                        Not Available                          Not Available   \n",
       "1                                  NaN                                    NaN   \n",
       "2                        Not Available                          Not Available   \n",
       "3                                  NaN                                    NaN   \n",
       "4                        Not Available                          Not Available   \n",
       "\n",
       "   zip_code  \n",
       "0       NaN  \n",
       "1   11375.0  \n",
       "2       NaN  \n",
       "3   10001.0  \n",
       "4       NaN  "
      ]
     },
     "execution_count": 52,
     "metadata": {},
     "output_type": "execute_result"
    }
   ],
   "source": [
    "eu_data.head()"
   ]
  },
  {
   "cell_type": "code",
   "execution_count": 55,
   "metadata": {
    "collapsed": false
   },
   "outputs": [
    {
     "data": {
      "text/plain": [
       "bbls_co_reported                                     object\n",
       "borough                                              object\n",
       "co_reported_bbl_status                               object\n",
       "dof_number_of_buildings                             float64\n",
       "dof_property_floor_area_buildngs_and_parking_ft2    float64\n",
       "energy_star_score                                    object\n",
       "nyc_borough_block_and_lot_bbl                       float64\n",
       "reported_property_floor_area_building_s_ft           object\n",
       "site_eui_kbtu_ft2                                    object\n",
       "source_eui_kbtu_ft2                                  object\n",
       "street_name                                          object\n",
       "street_number                                        object\n",
       "weather_normalized_site_eui_kbtu_ft2                 object\n",
       "weather_normalized_source_eui_kbtu_ft2               object\n",
       "zip_code                                            float64\n",
       "dtype: object"
      ]
     },
     "execution_count": 55,
     "metadata": {},
     "output_type": "execute_result"
    }
   ],
   "source": [
    "eu_data.dtypes"
   ]
  },
  {
   "cell_type": "code",
   "execution_count": null,
   "metadata": {
    "collapsed": true
   },
   "outputs": [],
   "source": []
  }
 ],
 "metadata": {
  "kernelspec": {
   "display_name": "PUI2016_Python2",
   "language": "python",
   "name": "pui2016_python2"
  },
  "language_info": {
   "codemirror_mode": {
    "name": "ipython",
    "version": 2
   },
   "file_extension": ".py",
   "mimetype": "text/x-python",
   "name": "python",
   "nbconvert_exporter": "python",
   "pygments_lexer": "ipython2",
   "version": "2.7.12"
  }
 },
 "nbformat": 4,
 "nbformat_minor": 0
}
