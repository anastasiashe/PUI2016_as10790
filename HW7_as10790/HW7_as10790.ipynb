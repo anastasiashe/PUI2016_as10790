{
 "cells": [
  {
   "cell_type": "markdown",
   "metadata": {},
   "source": [
    "### New York City Results on the New York State Mathematics Tests, Grades 3 - 8 (2011)"
   ]
  },
  {
   "cell_type": "code",
   "execution_count": 4,
   "metadata": {
    "collapsed": false
   },
   "outputs": [
    {
     "name": "stdout",
     "output_type": "stream",
     "text": [
      "Populating the interactive namespace from numpy and matplotlib\n"
     ]
    }
   ],
   "source": [
    "import pandas as pd\n",
    "import numpy as np\n",
    "import os\n",
    "import pylab as pl\n",
    "%pylab inline"
   ]
  },
  {
   "cell_type": "code",
   "execution_count": 3,
   "metadata": {
    "collapsed": false
   },
   "outputs": [],
   "source": [
    "DFDATA = os.getenv('DFDATA')"
   ]
  },
  {
   "cell_type": "code",
   "execution_count": 5,
   "metadata": {
    "collapsed": false,
    "scrolled": true
   },
   "outputs": [
    {
     "data": {
      "text/plain": [
       "'/gws/open/NYCOpenData/nycopendata/data'"
      ]
     },
     "execution_count": 5,
     "metadata": {},
     "output_type": "execute_result"
    }
   ],
   "source": [
    "os.getenv('DFDATA')"
   ]
  },
  {
   "cell_type": "code",
   "execution_count": 7,
   "metadata": {
    "collapsed": false
   },
   "outputs": [],
   "source": [
    "data = pd.read_csv(DFDATA + \"/ypm7-drwf/1414245889/ypm7-drwf\")"
   ]
  },
  {
   "cell_type": "code",
   "execution_count": 8,
   "metadata": {
    "collapsed": false
   },
   "outputs": [
    {
     "data": {
      "text/html": [
       "<div>\n",
       "<table border=\"1\" class=\"dataframe\">\n",
       "  <thead>\n",
       "    <tr style=\"text-align: right;\">\n",
       "      <th></th>\n",
       "      <th>Borough</th>\n",
       "      <th>Grade</th>\n",
       "      <th>Year</th>\n",
       "      <th>Category</th>\n",
       "      <th>Number Tested</th>\n",
       "      <th>Mean Scale Score</th>\n",
       "      <th>Level 1 #</th>\n",
       "      <th>Level 1 %</th>\n",
       "      <th>Level 2 #</th>\n",
       "      <th>Level 2 %</th>\n",
       "      <th>Level 3 #</th>\n",
       "      <th>Level 3 %</th>\n",
       "      <th>Level 4 #</th>\n",
       "      <th>Level 4 %</th>\n",
       "      <th>Level 3+4 #</th>\n",
       "      <th>Level 3+4 %</th>\n",
       "    </tr>\n",
       "  </thead>\n",
       "  <tbody>\n",
       "    <tr>\n",
       "      <th>0</th>\n",
       "      <td>BRONX</td>\n",
       "      <td>3</td>\n",
       "      <td>2006</td>\n",
       "      <td>Asian</td>\n",
       "      <td>572</td>\n",
       "      <td>689</td>\n",
       "      <td>35</td>\n",
       "      <td>6.1%</td>\n",
       "      <td>63</td>\n",
       "      <td>11%</td>\n",
       "      <td>247</td>\n",
       "      <td>43.2%</td>\n",
       "      <td>227</td>\n",
       "      <td>39.7%</td>\n",
       "      <td>474</td>\n",
       "      <td>82.9%</td>\n",
       "    </tr>\n",
       "    <tr>\n",
       "      <th>1</th>\n",
       "      <td>BRONX</td>\n",
       "      <td>3</td>\n",
       "      <td>2006</td>\n",
       "      <td>Black</td>\n",
       "      <td>5296</td>\n",
       "      <td>662</td>\n",
       "      <td>645</td>\n",
       "      <td>12.2%</td>\n",
       "      <td>1088</td>\n",
       "      <td>20.5%</td>\n",
       "      <td>2826</td>\n",
       "      <td>53.4%</td>\n",
       "      <td>737</td>\n",
       "      <td>13.9%</td>\n",
       "      <td>3563</td>\n",
       "      <td>67.3%</td>\n",
       "    </tr>\n",
       "    <tr>\n",
       "      <th>2</th>\n",
       "      <td>BRONX</td>\n",
       "      <td>3</td>\n",
       "      <td>2006</td>\n",
       "      <td>Hispanic</td>\n",
       "      <td>9875</td>\n",
       "      <td>661</td>\n",
       "      <td>1336</td>\n",
       "      <td>13.5%</td>\n",
       "      <td>2044</td>\n",
       "      <td>20.7%</td>\n",
       "      <td>5188</td>\n",
       "      <td>52.5%</td>\n",
       "      <td>1307</td>\n",
       "      <td>13.2%</td>\n",
       "      <td>6495</td>\n",
       "      <td>65.8%</td>\n",
       "    </tr>\n",
       "    <tr>\n",
       "      <th>3</th>\n",
       "      <td>BRONX</td>\n",
       "      <td>3</td>\n",
       "      <td>2006</td>\n",
       "      <td>White</td>\n",
       "      <td>636</td>\n",
       "      <td>686</td>\n",
       "      <td>37</td>\n",
       "      <td>5.8%</td>\n",
       "      <td>43</td>\n",
       "      <td>6.8%</td>\n",
       "      <td>333</td>\n",
       "      <td>52.4%</td>\n",
       "      <td>223</td>\n",
       "      <td>35.1%</td>\n",
       "      <td>556</td>\n",
       "      <td>87.4%</td>\n",
       "    </tr>\n",
       "    <tr>\n",
       "      <th>4</th>\n",
       "      <td>BRONX</td>\n",
       "      <td>3</td>\n",
       "      <td>2007</td>\n",
       "      <td>Asian</td>\n",
       "      <td>555</td>\n",
       "      <td>697</td>\n",
       "      <td>14</td>\n",
       "      <td>2.5%</td>\n",
       "      <td>41</td>\n",
       "      <td>7.4%</td>\n",
       "      <td>253</td>\n",
       "      <td>45.6%</td>\n",
       "      <td>247</td>\n",
       "      <td>44.5%</td>\n",
       "      <td>500</td>\n",
       "      <td>90.1%</td>\n",
       "    </tr>\n",
       "  </tbody>\n",
       "</table>\n",
       "</div>"
      ],
      "text/plain": [
       "  Borough Grade  Year  Category  Number Tested Mean Scale Score Level 1 #  \\\n",
       "0   BRONX     3  2006     Asian            572              689        35   \n",
       "1   BRONX     3  2006     Black           5296              662       645   \n",
       "2   BRONX     3  2006  Hispanic           9875              661      1336   \n",
       "3   BRONX     3  2006     White            636              686        37   \n",
       "4   BRONX     3  2007     Asian            555              697        14   \n",
       "\n",
       "  Level 1 % Level 2 # Level 2 % Level 3 # Level 3 % Level 4 # Level 4 %  \\\n",
       "0      6.1%        63       11%       247     43.2%       227     39.7%   \n",
       "1     12.2%      1088     20.5%      2826     53.4%       737     13.9%   \n",
       "2     13.5%      2044     20.7%      5188     52.5%      1307     13.2%   \n",
       "3      5.8%        43      6.8%       333     52.4%       223     35.1%   \n",
       "4      2.5%        41      7.4%       253     45.6%       247     44.5%   \n",
       "\n",
       "  Level 3+4 # Level 3+4 %  \n",
       "0         474       82.9%  \n",
       "1        3563       67.3%  \n",
       "2        6495       65.8%  \n",
       "3         556       87.4%  \n",
       "4         500       90.1%  "
      ]
     },
     "execution_count": 8,
     "metadata": {},
     "output_type": "execute_result"
    }
   ],
   "source": [
    "data.head()"
   ]
  },
  {
   "cell_type": "code",
   "execution_count": 9,
   "metadata": {
    "collapsed": false
   },
   "outputs": [
    {
     "data": {
      "text/plain": [
       "(875, 16)"
      ]
     },
     "execution_count": 9,
     "metadata": {},
     "output_type": "execute_result"
    }
   ],
   "source": [
    "data.shape"
   ]
  },
  {
   "cell_type": "code",
   "execution_count": 13,
   "metadata": {
    "collapsed": false
   },
   "outputs": [
    {
     "data": {
      "text/plain": [
       "Index([u'Borough', u'Grade', u'Year', u'Category', u'Number Tested',\n",
       "       u'Mean Scale Score', u'Level 1 #', u'Level 1 %', u'Level 2 #',\n",
       "       u'Level 2 %', u'Level 3 #', u'Level 3 %', u'Level 4 #', u'Level 4 %',\n",
       "       u'Level 3+4 #', u'Level 3+4 %'],\n",
       "      dtype='object')"
      ]
     },
     "execution_count": 13,
     "metadata": {},
     "output_type": "execute_result"
    }
   ],
   "source": [
    "data.columns"
   ]
  },
  {
   "cell_type": "code",
   "execution_count": 15,
   "metadata": {
    "collapsed": true
   },
   "outputs": [],
   "source": [
    "data.drop([u'Level 1 #', u'Level 1 %', u'Level 2 #',\n",
    "           u'Level 2 %', u'Level 3 #', u'Level 3 %', u'Level 4 #', u'Level 4 %',\n",
    "           u'Level 3+4 #', u'Level 3+4 %'], axis = 1, inplace = True)"
   ]
  },
  {
   "cell_type": "code",
   "execution_count": 45,
   "metadata": {
    "collapsed": false
   },
   "outputs": [
    {
     "data": {
      "text/html": [
       "<div>\n",
       "<table border=\"1\" class=\"dataframe\">\n",
       "  <thead>\n",
       "    <tr style=\"text-align: right;\">\n",
       "      <th></th>\n",
       "      <th>Borough</th>\n",
       "      <th>Grade</th>\n",
       "      <th>Year</th>\n",
       "      <th>Category</th>\n",
       "      <th>Number Tested</th>\n",
       "      <th>Mean Scale Score</th>\n",
       "    </tr>\n",
       "  </thead>\n",
       "  <tbody>\n",
       "    <tr>\n",
       "      <th>0</th>\n",
       "      <td>BRONX</td>\n",
       "      <td>3</td>\n",
       "      <td>2006</td>\n",
       "      <td>Asian</td>\n",
       "      <td>572</td>\n",
       "      <td>689</td>\n",
       "    </tr>\n",
       "    <tr>\n",
       "      <th>1</th>\n",
       "      <td>BRONX</td>\n",
       "      <td>3</td>\n",
       "      <td>2006</td>\n",
       "      <td>Black</td>\n",
       "      <td>5296</td>\n",
       "      <td>662</td>\n",
       "    </tr>\n",
       "    <tr>\n",
       "      <th>2</th>\n",
       "      <td>BRONX</td>\n",
       "      <td>3</td>\n",
       "      <td>2006</td>\n",
       "      <td>Hispanic</td>\n",
       "      <td>9875</td>\n",
       "      <td>661</td>\n",
       "    </tr>\n",
       "    <tr>\n",
       "      <th>3</th>\n",
       "      <td>BRONX</td>\n",
       "      <td>3</td>\n",
       "      <td>2006</td>\n",
       "      <td>White</td>\n",
       "      <td>636</td>\n",
       "      <td>686</td>\n",
       "    </tr>\n",
       "    <tr>\n",
       "      <th>4</th>\n",
       "      <td>BRONX</td>\n",
       "      <td>3</td>\n",
       "      <td>2007</td>\n",
       "      <td>Asian</td>\n",
       "      <td>555</td>\n",
       "      <td>697</td>\n",
       "    </tr>\n",
       "  </tbody>\n",
       "</table>\n",
       "</div>"
      ],
      "text/plain": [
       "  Borough Grade  Year  Category  Number Tested Mean Scale Score\n",
       "0   BRONX     3  2006     Asian            572              689\n",
       "1   BRONX     3  2006     Black           5296              662\n",
       "2   BRONX     3  2006  Hispanic           9875              661\n",
       "3   BRONX     3  2006     White            636              686\n",
       "4   BRONX     3  2007     Asian            555              697"
      ]
     },
     "execution_count": 45,
     "metadata": {},
     "output_type": "execute_result"
    }
   ],
   "source": [
    "data.head()"
   ]
  },
  {
   "cell_type": "code",
   "execution_count": 60,
   "metadata": {
    "collapsed": true
   },
   "outputs": [],
   "source": [
    "data_2011 = data[(data['Year'] == 2011)]"
   ]
  },
  {
   "cell_type": "code",
   "execution_count": 61,
   "metadata": {
    "collapsed": false
   },
   "outputs": [
    {
     "data": {
      "text/plain": [
       "(175, 6)"
      ]
     },
     "execution_count": 61,
     "metadata": {},
     "output_type": "execute_result"
    }
   ],
   "source": [
    "data_2011.shape"
   ]
  },
  {
   "cell_type": "code",
   "execution_count": 62,
   "metadata": {
    "collapsed": false
   },
   "outputs": [
    {
     "data": {
      "text/plain": [
       "Borough             object\n",
       "Grade               object\n",
       "Year                 int64\n",
       "Category            object\n",
       "Number Tested        int64\n",
       "Mean Scale Score    object\n",
       "dtype: object"
      ]
     },
     "execution_count": 62,
     "metadata": {},
     "output_type": "execute_result"
    }
   ],
   "source": [
    "data_2011.dtypes"
   ]
  },
  {
   "cell_type": "code",
   "execution_count": 63,
   "metadata": {
    "collapsed": false
   },
   "outputs": [
    {
     "data": {
      "text/html": [
       "<div>\n",
       "<table border=\"1\" class=\"dataframe\">\n",
       "  <thead>\n",
       "    <tr style=\"text-align: right;\">\n",
       "      <th></th>\n",
       "      <th>Borough</th>\n",
       "      <th>Grade</th>\n",
       "      <th>Year</th>\n",
       "      <th>Category</th>\n",
       "      <th>Number Tested</th>\n",
       "      <th>Mean Scale Score</th>\n",
       "    </tr>\n",
       "  </thead>\n",
       "  <tbody>\n",
       "    <tr>\n",
       "      <th>20</th>\n",
       "      <td>BRONX</td>\n",
       "      <td>3</td>\n",
       "      <td>2011</td>\n",
       "      <td>Asian</td>\n",
       "      <td>592</td>\n",
       "      <td>692</td>\n",
       "    </tr>\n",
       "    <tr>\n",
       "      <th>21</th>\n",
       "      <td>BRONX</td>\n",
       "      <td>3</td>\n",
       "      <td>2011</td>\n",
       "      <td>Black</td>\n",
       "      <td>4549</td>\n",
       "      <td>677</td>\n",
       "    </tr>\n",
       "    <tr>\n",
       "      <th>22</th>\n",
       "      <td>BRONX</td>\n",
       "      <td>3</td>\n",
       "      <td>2011</td>\n",
       "      <td>Hispanic</td>\n",
       "      <td>9862</td>\n",
       "      <td>678</td>\n",
       "    </tr>\n",
       "    <tr>\n",
       "      <th>23</th>\n",
       "      <td>BRONX</td>\n",
       "      <td>3</td>\n",
       "      <td>2011</td>\n",
       "      <td>Pacific Islander</td>\n",
       "      <td>27</td>\n",
       "      <td>683</td>\n",
       "    </tr>\n",
       "    <tr>\n",
       "      <th>24</th>\n",
       "      <td>BRONX</td>\n",
       "      <td>3</td>\n",
       "      <td>2011</td>\n",
       "      <td>White</td>\n",
       "      <td>677</td>\n",
       "      <td>689</td>\n",
       "    </tr>\n",
       "  </tbody>\n",
       "</table>\n",
       "</div>"
      ],
      "text/plain": [
       "   Borough Grade  Year          Category  Number Tested Mean Scale Score\n",
       "20   BRONX     3  2011             Asian            592              692\n",
       "21   BRONX     3  2011             Black           4549              677\n",
       "22   BRONX     3  2011          Hispanic           9862              678\n",
       "23   BRONX     3  2011  Pacific Islander             27              683\n",
       "24   BRONX     3  2011             White            677              689"
      ]
     },
     "execution_count": 63,
     "metadata": {},
     "output_type": "execute_result"
    }
   ],
   "source": [
    "data_2011.head()"
   ]
  },
  {
   "cell_type": "code",
   "execution_count": 71,
   "metadata": {
    "collapsed": false
   },
   "outputs": [],
   "source": [
    "data_2011[['Grade', 'Mean Scale Score']] = data_2011[['Grade', 'Mean Scale Score']].apply(pd.to_numeric, \n",
    "                                                                                          errors = 'coerce')"
   ]
  },
  {
   "cell_type": "code",
   "execution_count": 101,
   "metadata": {
    "collapsed": false
   },
   "outputs": [
    {
     "name": "stderr",
     "output_type": "stream",
     "text": [
      "/opt/rh/anaconda/root/envs/PUI2016_Python2/lib/python2.7/site-packages/ipykernel/__main__.py:1: SettingWithCopyWarning: \n",
      "A value is trying to be set on a copy of a slice from a DataFrame\n",
      "\n",
      "See the caveats in the documentation: http://pandas.pydata.org/pandas-docs/stable/indexing.html#indexing-view-versus-copy\n",
      "  if __name__ == '__main__':\n"
     ]
    }
   ],
   "source": [
    "data_2011.dropna(inplace = True)"
   ]
  },
  {
   "cell_type": "code",
   "execution_count": 102,
   "metadata": {
    "collapsed": false
   },
   "outputs": [
    {
     "data": {
      "text/plain": [
       "(145, 6)"
      ]
     },
     "execution_count": 102,
     "metadata": {},
     "output_type": "execute_result"
    }
   ],
   "source": [
    "data_2011.shape"
   ]
  },
  {
   "cell_type": "code",
   "execution_count": 117,
   "metadata": {
    "collapsed": false
   },
   "outputs": [
    {
     "data": {
      "text/plain": [
       "<matplotlib.text.Text at 0x7f8c0cd30bd0>"
      ]
     },
     "execution_count": 117,
     "metadata": {},
     "output_type": "execute_result"
    },
    {
     "data": {
      "image/png": "[encoded data removed]",
      "text/plain": [
       "<matplotlib.figure.Figure at 0x7f8c0ca593d0>"
      ]
     },
     "metadata": {},
     "output_type": "display_data"
    }
   ],
   "source": [
    "pl.figure(1, figsize = (8, 6))\n",
    "pl.scatter(data_2011['Number Tested'], data_2011['Mean Scale Score'], c = data_2011.Grade)\n",
    "pl.xlabel('Number of Students')\n",
    "pl.ylabel('Mean Math Score')\n",
    "pl.title('Mean Math Scores for Students in Grades 3-8')\n",
    "pl.text(-2000, 640, 'Figure 1. Colors represent different grades')\n",
    "#pl.xlim(min(data_2011['Number Tested']), len(data_2011['Number Tested']))"
   ]
  },
  {
   "cell_type": "markdown",
   "metadata": {},
   "source": []
  }
 ],
 "metadata": {
  "kernelspec": {
   "display_name": "PUI2016_Python2",
   "language": "python",
   "name": "pui2016_python2"
  },
  "language_info": {
   "codemirror_mode": {
    "name": "ipython",
    "version": 2
   },
   "file_extension": ".py",
   "mimetype": "text/x-python",
   "name": "python",
   "nbconvert_exporter": "python",
   "pygments_lexer": "ipython2",
   "version": "2.7.12"
  }
 },
 "nbformat": 4,
 "nbformat_minor": 0
}
