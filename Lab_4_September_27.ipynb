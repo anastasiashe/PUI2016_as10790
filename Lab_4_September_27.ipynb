{
 "cells": [
  {
   "cell_type": "code",
   "execution_count": 1,
   "metadata": {
    "collapsed": false
   },
   "outputs": [],
   "source": [
    "import numpy as np"
   ]
  },
  {
   "cell_type": "code",
   "execution_count": 8,
   "metadata": {
    "collapsed": false
   },
   "outputs": [],
   "source": [
    "p1 = 70.1 / 100\n",
    "p0 = 3.5 / 100\n",
    "a = 0.05\n",
    "\n",
    "# H0: p1 >= p0\n",
    "\n",
    "total_1 = 564\n",
    "total_0 = 409\n",
    "total = total_0 + total_1\n",
    "\n",
    "cont_tbl = np.array([[0, 0], [0, 0]])"
   ]
  },
  {
   "cell_type": "code",
   "execution_count": 9,
   "metadata": {
    "collapsed": false
   },
   "outputs": [
    {
     "data": {
      "text/plain": [
       "array([[0, 0],\n",
       "       [0, 0]])"
      ]
     },
     "execution_count": 9,
     "metadata": {},
     "output_type": "execute_result"
    }
   ],
   "source": [
    "cont_tbl"
   ]
  },
  {
   "cell_type": "code",
   "execution_count": 10,
   "metadata": {
    "collapsed": false
   },
   "outputs": [],
   "source": [
    "cont_tbl[0][0] = p1 * total_1\n",
    "cont_tbl[1][0] = p0 * total_0\n",
    "cont_tbl[0][1] = (1 - p1) * total_1\n",
    "cont_tbl[1][1] = (1 - p0) * total_0"
   ]
  },
  {
   "cell_type": "code",
   "execution_count": 11,
   "metadata": {
    "collapsed": false
   },
   "outputs": [
    {
     "name": "stdout",
     "output_type": "stream",
     "text": [
      "429.720298404\n"
     ]
    }
   ],
   "source": [
    "expected = 564 * 409 * 409.679 * 562.912\n",
    "chisqstat = lambda N, values, expect : N * ((values[0][0] * values[1][1]\n",
    "                                            -values[0][1] * values[1][0])**2) / expect\n",
    "\n",
    "print (chisqstat(total, cont_tbl, expected))"
   ]
  },
  {
   "cell_type": "code",
   "execution_count": null,
   "metadata": {
    "collapsed": true
   },
   "outputs": [],
   "source": []
  }
 ],
 "metadata": {
  "kernelspec": {
   "display_name": "PUI2016_Python3",
   "language": "python",
   "name": "pui2016_python3"
  },
  "language_info": {
   "codemirror_mode": {
    "name": "ipython",
    "version": 3
   },
   "file_extension": ".py",
   "mimetype": "text/x-python",
   "name": "python",
   "nbconvert_exporter": "python",
   "pygments_lexer": "ipython3",
   "version": "3.5.2"
  }
 },
 "nbformat": 4,
 "nbformat_minor": 0
}
